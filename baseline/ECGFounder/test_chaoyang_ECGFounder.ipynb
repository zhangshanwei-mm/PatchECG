{
 "cells": [
  {
   "cell_type": "code",
   "execution_count": 7,
   "metadata": {},
   "outputs": [],
   "source": [
    "import numpy as np\n",
    "import pandas as pd\n",
    "from collections import Counter\n",
    "import matplotlib.pyplot as plt\n",
    "from tqdm import tqdm\n",
    "from sklearn.metrics import classification_report, confusion_matrix\n",
    "from sklearn.metrics import classification_report, confusion_matrix, accuracy_score, precision_score, recall_score, \\\n",
    "    roc_auc_score, f1_score,auc,roc_curve,multilabel_confusion_matrix\n",
    "import os\n",
    "from shutil import copyfile\n",
    "import torch\n",
    "import h5py\n",
    "import torch.nn as nn\n",
    "import torch.optim as optim\n",
    "import torch.nn.functional as F\n",
    "from torch.utils.data import DataLoader\n",
    "import json\n",
    "from util import save_checkpoint, save_reg_checkpoint, my_eval_with_dynamic_thresh\n",
    "from finetune_model import ft_12lead_ECGFounder, ft_1lead_ECGFounder\n",
    "from sklearn.model_selection import train_test_split\n",
    "import torch.nn as nn\n",
    "from torch.utils.data import Dataset, DataLoader\n",
    "\n",
    "def evaluate_predictions(scores, th, labels):\n",
    "    \"\"\"\n",
    "    输入:\n",
    "    scores - 分数数组，形状[400,1]\n",
    "    th - 阈值，大于th的预测为1，否则为0\n",
    "    labels - 真实标签数组，形状[400,1]，前200为1，后200为0\n",
    "    \n",
    "    输出:\n",
    "    predictions - 预测标签数组\n",
    "    confusion_matrix - 混淆矩阵\n",
    "    metrics - 评估指标\n",
    "    \"\"\"\n",
    "    predictions = (scores > th).astype(int)\n",
    "    labels = np.array(labels).reshape(-1, 1)\n",
    "    \n",
    "    TP = np.sum((predictions == 1) & (labels == 1))\n",
    "    FP = np.sum((predictions == 1) & (labels == 0))\n",
    "    FN = np.sum((predictions == 0) & (labels == 1))\n",
    "    TN = np.sum((predictions == 0) & (labels == 0))\n",
    "    \n",
    "    confusion_mat = np.array([[TP, FP], [FN, TN]])\n",
    "    \n",
    "    accuracy = (TP + TN) / (TP + FP + FN + TN)\n",
    "    precision = TP / (TP + FP) if (TP + FP) != 0 else 0\n",
    "    recall = TP / (TP + FN) if (TP + FN) != 0 else 0\n",
    "    specificity = TN / (TN + FP) if (TN + FP) != 0 else 0  # 特异度\n",
    "    f1_score = 2 * (precision * recall) / (precision + recall) if (precision + recall) != 0 else 0\n",
    "    \n",
    "    metrics = {\n",
    "        'accuracy': accuracy,\n",
    "        'precision': precision,\n",
    "        'recall': recall,\n",
    "        'specificity': specificity,  # 特异度\n",
    "        'f1_score': f1_score,\n",
    "        'confusion_matrix': confusion_mat\n",
    "    }\n",
    "    print(f\"TP is {TP}\")\n",
    "    print(f\"FP is {FP}\")\n",
    "    print(f\"FN is {FN}\")\n",
    "    print(f\"TN is {TN}\")\n",
    "\n",
    "    for k, v in metrics.items():\n",
    "        if k != 'confusion_matrix':\n",
    "            print(f\"{k}: {v:.4f}\")\n",
    "\n",
    "    return metrics"
   ]
  },
  {
   "cell_type": "markdown",
   "metadata": {},
   "source": []
  },
  {
   "cell_type": "markdown",
   "metadata": {},
   "source": [
    "## Load data"
   ]
  },
  {
   "cell_type": "code",
   "execution_count": 11,
   "metadata": {
    "tags": []
   },
   "outputs": [
    {
     "name": "stdout",
     "output_type": "stream",
     "text": [
      "(400, 12, 1000)\n",
      "(400, 150)\n"
     ]
    },
    {
     "name": "stderr",
     "output_type": "stream",
     "text": [
      "/data/0shared/zhangshanwei/ECG_founder/ECGFounder-master/finetune_model.py:27: FutureWarning: You are using `torch.load` with `weights_only=False` (the current default value), which uses the default pickle module implicitly. It is possible to construct malicious pickle data which will execute arbitrary code during unpickling (See https://github.com/pytorch/pytorch/blob/main/SECURITY.md#untrusted-models for more details). In a future release, the default value for `weights_only` will be flipped to `True`. This limits the functions that could be executed during unpickling. Arbitrary objects will no longer be allowed to be loaded via this mode unless they are explicitly allowlisted by the user via `torch.serialization.add_safe_globals`. We recommend you start setting `weights_only=True` for any use case where you don't have full control of the loaded file. Please open an issue on GitHub for any issues related to this experimental feature.\n",
      "  checkpoint = torch.load(pth, map_location=device)\n"
     ]
    }
   ],
   "source": [
    "from dataset import Chaoyang_Dataset\n",
    "\n",
    "num_lead = 12 # 12-lead ECG or 1-lead ECG \n",
    "\n",
    "gpu_id = 4\n",
    "batch_size = 1\n",
    "lr = 1e-4\n",
    "weight_decay = 1e-5\n",
    "early_stop_lr = 1e-5\n",
    "Epochs = 5\n",
    "\n",
    "device = torch.device('cuda:{}'.format(gpu_id) if torch.cuda.is_available() else 'cpu')\n",
    "\n",
    "tasks = ['class']\n",
    "n_classes = 150\n",
    "\n",
    "# read chaoyang data\n",
    "with h5py.File('./data/chaoyan_AF_6x2.h5', 'r') as f:\n",
    "    data1 = f['data'][:]\n",
    "    label1 = f['labels'][:]\n",
    "\n",
    "with h5py.File('./data/chaoyan_AF_12x1.h5', 'r') as f:\n",
    "    data2 = f['data'][:]\n",
    "    label2 = f['labels'][:]\n",
    "\n",
    "with h5py.File('./data/chaoyan_NAF.h5', 'r') as f:\n",
    "    data3 = f['data'][:]\n",
    "    label3 = f['labels'][:]\n",
    "\n",
    "data = np.concatenate((data1,data2,data3),axis=0)\n",
    "data = np.moveaxis(data, 1, 2)\n",
    "#label = np.concatenate((label1,label2,label3),axis=0)\n",
    "\n",
    "# AF 是第6个数据，在对应的表中,只关注1和5即可\n",
    "# 正常窦性心律是第2个数据\n",
    "label = np.zeros((400,150))\n",
    "label[0:200,5]=1\n",
    "label[200:400,1]=1\n",
    "\n",
    "# print(label[0])\n",
    "# print(label[200])\n",
    "tensor_label = torch.from_numpy(label)\n",
    "\n",
    "print(data.shape)\n",
    "print(label.shape)\n",
    "\n",
    "ECGdataset = Chaoyang_Dataset(data=data,label=tensor_label)\n",
    "pth = './checkpoint/12_lead_ECGFounder.pth'\n",
    "model = ft_12lead_ECGFounder(device, pth, n_classes,linear_prob=False)\n",
    "\n",
    "testloader = DataLoader(ECGdataset, batch_size=16, drop_last=True,shuffle=False)"
   ]
  },
  {
   "cell_type": "markdown",
   "metadata": {},
   "source": [
    "## test chaoyang hospital"
   ]
  },
  {
   "cell_type": "code",
   "execution_count": 18,
   "metadata": {},
   "outputs": [
    {
     "name": "stderr",
     "output_type": "stream",
     "text": [
      "Testing:   0%|          | 0/25 [00:00<?, ?it/s]/data/0shared/zhangshanwei/ECG_founder/ECGFounder-master/dataset.py:126: UserWarning: To copy construct from a tensor, it is recommended to use sourceTensor.clone().detach() or sourceTensor.clone().detach().requires_grad_(True), rather than torch.tensor(sourceTensor).\n",
      "  return (torch.tensor(signal, dtype=torch.float), torch.tensor(self.label[index], dtype=torch.float))\n",
      "                                                        "
     ]
    },
    {
     "name": "stdout",
     "output_type": "stream",
     "text": [
      "AF auc is :0.6606000000000001\n",
      "TP is 144\n",
      "FP is 94\n",
      "FN is 56\n",
      "TN is 106\n",
      "accuracy: 0.6250\n",
      "precision: 0.6050\n",
      "recall: 0.7200\n",
      "specificity: 0.5300\n",
      "f1_score: 0.6575\n"
     ]
    },
    {
     "name": "stderr",
     "output_type": "stream",
     "text": [
      "\r"
     ]
    }
   ],
   "source": [
    "  \n",
    "# test \n",
    "# 400 x 1\n",
    "model.eval()\n",
    "prog_iter_test = tqdm(testloader, desc=\"Testing\", leave=False)\n",
    "all_gt = [] # label\n",
    "all_pred_prob = [] # pred score\n",
    "with torch.no_grad():\n",
    "    for batch_idx, batch in enumerate(prog_iter_test):\n",
    "        input_x, input_y = tuple(t.to(device) for t in batch)\n",
    "        pred = model(input_x)\n",
    "        pred = torch.sigmoid(pred) # sigmoid\n",
    "        all_pred_prob.append(pred.cpu().data.numpy())\n",
    "        all_gt.append(input_y.cpu().data.numpy())\n",
    "\n",
    "all_pred_prob = np.concatenate(all_pred_prob) # score\n",
    "all_gt = np.concatenate(all_gt) # label\n",
    "\n",
    "all_gt = np.array(all_gt)\n",
    "\n",
    "# print result\n",
    "fpr, tpr, th = roc_curve(all_gt[:, 5], all_pred_prob[:, 5])\n",
    "roc_auc = auc(fpr, tpr)\n",
    "print(\"AF auc is :{}\".format(roc_auc))\n",
    "# plt.figure()\n",
    "# plt.plot(fpr ,tpr, label=f'AVB (AUC = {roc_auc:.2f})')\n",
    "af_pred = (all_pred_prob[:, 5] >= 0.5) # 大于阈值即为这个 (400,1)\n",
    "\n",
    "ecg_founder_400 = evaluate_predictions(all_pred_prob[:, 5].reshape(-1,1), th=0.62, labels=all_gt[:,5].reshape(400,1))\n",
    "    \n",
    "# np.savetxt(\"./chaoyang.csv\",af_pred, delimiter=\",\", fmt=\"%.6f\")"
   ]
  },
  {
   "cell_type": "code",
   "execution_count": 21,
   "metadata": {},
   "outputs": [
    {
     "name": "stderr",
     "output_type": "stream",
     "text": [
      "Testing:   0%|          | 0/25 [00:00<?, ?it/s]/data/0shared/zhangshanwei/ECG_founder/ECGFounder-master/dataset.py:126: UserWarning: To copy construct from a tensor, it is recommended to use sourceTensor.clone().detach() or sourceTensor.clone().detach().requires_grad_(True), rather than torch.tensor(sourceTensor).\n",
      "  return (torch.tensor(signal, dtype=torch.float), torch.tensor(self.label[index], dtype=torch.float))\n",
      "                                                        "
     ]
    },
    {
     "name": "stdout",
     "output_type": "stream",
     "text": [
      "(400, 150)\n",
      "AF auc is :0.70285\n",
      "TP is 86\n",
      "FP is 114\n",
      "FN is 14\n",
      "TN is 86\n",
      "accuracy: 0.5733\n",
      "precision: 0.4300\n",
      "recall: 0.8600\n",
      "specificity: 0.4300\n",
      "f1_score: 0.5733\n"
     ]
    },
    {
     "name": "stderr",
     "output_type": "stream",
     "text": [
      "\r"
     ]
    }
   ],
   "source": [
    "# 300 12 x 1\n",
    "  \n",
    "# test\n",
    "model.eval()\n",
    "prog_iter_test = tqdm(testloader, desc=\"Testing\", leave=False)\n",
    "all_gt = [] # label\n",
    "all_pred_prob = [] # pred score\n",
    "with torch.no_grad():\n",
    "    for batch_idx, batch in enumerate(prog_iter_test):\n",
    "        input_x, input_y = tuple(t.to(device) for t in batch)\n",
    "        pred = model(input_x)\n",
    "        pred = torch.sigmoid(pred) # sigmoid\n",
    "        all_pred_prob.append(pred.cpu().data.numpy())\n",
    "        all_gt.append(input_y.cpu().data.numpy())\n",
    "\n",
    "all_pred_prob = np.concatenate(all_pred_prob) # score\n",
    "all_gt = np.concatenate(all_gt) # label\n",
    "\n",
    "all_gt = np.array(all_gt)\n",
    "print(all_gt.shape)\n",
    "# print result\n",
    "fpr, tpr, th = roc_curve(all_gt[100:, 5], all_pred_prob[100:, 5])\n",
    "roc_auc = auc(fpr, tpr)\n",
    "print(\"AF auc is :{}\".format(roc_auc))\n",
    "# plt.figure()\n",
    "# plt.plot(fpr ,tpr, label=f'AVB (AUC = {roc_auc:.2f})')\n",
    "af_pred = (all_pred_prob[100:, 5] >= 0.5) # 大于阈值即为这个 (400,1)\n",
    "\n",
    "ecg_founder_300 = evaluate_predictions(all_pred_prob[100:, 5].reshape(-1,1), th=0.6, labels=all_gt[100:,5].reshape(300,1))\n",
    "\n",
    "# np.savetxt(\"./chaoyang.csv\",af_pred, delimiter=\",\", fmt=\"%.6f\")"
   ]
  }
 ],
 "metadata": {
  "kernelspec": {
   "display_name": "ECGFounder",
   "language": "python",
   "name": "python3"
  },
  "language_info": {
   "codemirror_mode": {
    "name": "ipython",
    "version": 3
   },
   "file_extension": ".py",
   "mimetype": "text/x-python",
   "name": "python",
   "nbconvert_exporter": "python",
   "pygments_lexer": "ipython3",
   "version": "3.10.16"
  }
 },
 "nbformat": 4,
 "nbformat_minor": 2
}
